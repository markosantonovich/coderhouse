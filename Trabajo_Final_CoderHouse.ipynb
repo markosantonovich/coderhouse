{
 "cells": [
  {
   "cell_type": "code",
   "execution_count": null,
   "id": "eb3051d5-47ae-4bdc-b8ae-659bf80f9f6b",
   "metadata": {},
   "outputs": [],
   "source": [
    "import google.generativeai as genai\n",
    "\n",
    "API_KEY = \"API_KEY\"\n",
    "genai.configure(api_key=API_KEY)\n",
    "\n",
    "def obtener_respuesta(prompt):\n",
    "\n",
    "    modelo = genai.GenerativeModel(\"gemini-pro\")\n",
    "    respuesta = modelo.generate_content(prompt)\n",
    "    return respuesta.text"
   ]
  },
  {
   "cell_type": "code",
   "execution_count": null,
   "id": "a3a57733-7e6c-4a36-8ce3-abc583284d1f",
   "metadata": {},
   "outputs": [],
   "source": [
    "def generar_prompt(ocupacion, dificultad, objetivo):\n",
    "\n",
    "    return f\"¿Podrías explicarme cómo {objetivo} si soy {ocupacion} y me cuesta {dificultad}?\"\n",
    "\n",
    "# Ejemplo:\n",
    "ocupacion = \"técnico en refrigeración\"\n",
    "dificultad = \"usar Excel\"\n",
    "objetivo = \"crear una hoja para llevar los ingresos y egresos del trabajo\"\n",
    "\n",
    "mensaje = generar_prompt(ocupacion, dificultad, objetivo)\n",
    "print(\"Mensaje generado para IA:\", mensaje)"
   ]
  },
  {
   "cell_type": "code",
   "execution_count": null,
   "id": "077848ce-5c1e-4731-a781-501680f4e855",
   "metadata": {},
   "outputs": [],
   "source": [
    "# IA Amigable para Empleados Mayores\n",
    "\n",
    "## ¿De qué trata este proyecto?\n",
    "\n",
    "#Creamos una herramienta con inteligencia artificial pensada para acompañar a personas mayores en el uso de la tecnología. \n",
    "#Ayuda a entender paso a paso cómo usar herramientas digitales (como Excel, WhatsApp o el correo electrónico), \n",
    "#usando mensajes claros y fáciles de entender según cada necesidad."
   ]
  },
  {
   "cell_type": "code",
   "execution_count": null,
   "id": "1cae5e26-887e-483a-9f11-f63ba5ba33e6",
   "metadata": {},
   "outputs": [],
   "source": [
    "## ¿Por qué hacemos esto?\n",
    "\n",
    "\n",
    "\n",
    "#¿Cuál es el problema?\n",
    "#Muchas personas mayores en el trabajo tienen dificultades con el uso de nuevas tecnologías. \n",
    "#Esto puede hacer que se sientan excluidas o que les cueste adaptarse. \n",
    "#Queremos ayudar a que todos y todas puedan seguir aprendiendo y trabajando sin miedo, con apoyo personalizado.\n"
   ]
  },
  {
   "cell_type": "code",
   "execution_count": null,
   "id": "ba069622-ad66-41c2-b92f-f589d4b9e6f4",
   "metadata": {},
   "outputs": [],
   "source": [
    "## ¿Cómo funciona esta ayuda?\n",
    "\n",
    "#La herramienta usa mensajes hechos a medida (prompts) que la IA entiende y responde de forma clara. Cada mensaje se adapta al trabajo de la persona, su dificultad y lo que quiere lograr.\n",
    "\n",
    "#Ejemplo de mensaje:\n",
    "- \"Explícame cómo crear una hoja de cálculo para anotar lo que gano y gasto en mi taller, como si nunca hubiera usado Excel.\"\n",
    "\n",
    "#Así, la IA puede dar explicaciones simples, como lo haría un compañero de confianza.\n"
   ]
  },
  {
   "cell_type": "code",
   "execution_count": null,
   "id": "93ea2153-9954-40ca-b43f-80a7ccc2ca46",
   "metadata": {},
   "outputs": [],
   "source": [
    "## ¿Es viable este proyecto?\n",
    "\n",
    "#Este proyecto es técnicamente viable porque se apoya en herramientas accesibles como modelos de inteligencia artificial (por ejemplo, Gemini de Google) y se desarrolla en Python, un lenguaje abierto y ampliamente utilizado. \n",
    "#No requiere hardware complejo, solo conexión a internet y una clave API. \n",
    "#El tiempo estimado para implementarlo es de unas pocas semanas, lo que se ajusta al plazo disponible. \n",
    "#Además, los prompts pueden adaptarse fácilmente a distintas ocupaciones y dificultades.\n"
   ]
  },
  {
   "cell_type": "code",
   "execution_count": null,
   "id": "d40e1608-3217-4fb7-94e3-e04ae6ac3977",
   "metadata": {},
   "outputs": [],
   "source": [
    "## Objetivos del proyecto\n",
    "\n",
    "#Acompañar a empleados mayores en la adopción de herramientas digitales.\n",
    "#Reducir la brecha digital en entornos laborales mediante asistencia basada en IA.\n",
    "#Crear un sistema de generación de prompts personalizados según ocupación y dificultad.\n",
    "#Brindar respuestas claras, simples y adaptadas a cada usuario.\n",
    "#Promover la autonomía y la inclusión laboral de personas con poca experiencia digital.\n"
   ]
  },
  {
   "cell_type": "code",
   "execution_count": null,
   "id": "b6f0aaea-5d01-4612-80f4-444f3c166f49",
   "metadata": {},
   "outputs": [],
   "source": [
    "## Metodología\n",
    "\n",
    "#El proyecto se desarrolló en etapas:\n",
    "\n",
    "#Definición del problema: se identificó una necesidad concreta de asistencia a personas mayores en el uso de herramientas digitales.\n",
    "#iseño del sistema: se desarrolló una función para generar mensajes adaptados según ocupación, dificultad y objetivo.\n",
    "#Integración con IA: se utilizó el modelo Gemini de Google para generar respuestas útiles a los mensajes generados.\n",
    "#Prueba de funcionamiento: se validaron ejemplos con diferentes ocupaciones y dificultades."
   ]
  },
  {
   "cell_type": "code",
   "execution_count": null,
   "id": "96b70ee5-cbfa-4e7f-b513-dae809334231",
   "metadata": {},
   "outputs": [],
   "source": [
    "## Herramientas y tecnologías utilizadas\n",
    "\n",
    "#Lenguaje de programación: Python 3\n",
    "#IA generativa: Gemini (Google)\n",
    "#Técnica aplicada: Fast Prompting adaptado. Se utiliza un diseño de prompt personalizado con tres variables clave (ocupación, dificultad, objetivo) para optimizar la respuesta de la IA.\n",
    "\n",
    "#Esto permite generar indicaciones claras para que la IA entienda el contexto del usuario y brinde una explicación comprensible y efectiva.\n"
   ]
  },
  {
   "cell_type": "code",
   "execution_count": null,
   "id": "5c3d18da-06f0-4f35-aadd-d07940ca15b9",
   "metadata": {},
   "outputs": [],
   "source": [
    "## Prompt de imagen (opcional)\n",
    "\n",
    "#Este proyecto no incluye generación de imágenes. \n",
    "#Solo se utiliza texto para generar asistencia personalizada. \n",
    "#Si se desea incorporar imágenes, podría utilizarse DALL·E o Bing Image Creator para ilustrar pasos simples como usar una herramienta.*\n",
    "\n",
    "#(Ejemplo de prompt opcional: \"Una persona mayor usando una computadora con una hoja de Excel abierta\")\n"
   ]
  },
  {
   "cell_type": "code",
   "execution_count": null,
   "id": "68b01459-154d-4218-b1ab-a0f8266a62cd",
   "metadata": {},
   "outputs": [],
   "source": [
    "## Resultados obtenidos\n",
    "\n",
    "#El sistema genera mensajes correctamente adaptados a diferentes perfiles de usuarios. \n",
    "#Por ejemplo, para un técnico con dificultad en Excel, se produce un mensaje comprensible y claro que guía al modelo a responder de manera amigable.\n",
    "\n",
    "#Las pruebas realizadas indican que el sistema cumple con su propósito de hacer más accesible la tecnología para personas mayores en contextos laborales.\n"
   ]
  },
  {
   "cell_type": "code",
   "execution_count": null,
   "id": "857a8784-9ba5-485a-a15c-b91c6314b587",
   "metadata": {},
   "outputs": [],
   "source": [
    "## Conclusiones\n",
    "\n",
    "#Este proyecto demostró que es posible utilizar inteligencia artificial de manera empática y adaptada para acompañar a personas mayores en el aprendizaje de herramientas digitales.\n",
    "\n",
    "#Se cumplieron los objetivos propuestos, ya que se logró:\n",
    "#Adaptar el lenguaje de los mensajes a las necesidades del usuario.\n",
    "#Obtener respuestas claras a través de IA.\n",
    "#Fomentar la inclusión digital.\n"
   ]
  },
  {
   "cell_type": "code",
   "execution_count": null,
   "id": "051c0958-cbf0-46b9-ba4a-5ebe3bf92ca8",
   "metadata": {},
   "outputs": [],
   "source": [
    "## Referencias\n",
    "\n",
    "#Documentación oficial de Gemini AI (Google)\n",
    "#Guias del curso de CoderHouse\n",
    "\n",
    "(*No se utilizaron fuentes académicas externas específicas para este proyecto.*)"
   ]
  }
 ],
 "metadata": {
  "kernelspec": {
   "display_name": "Python 3 (ipykernel)",
   "language": "python",
   "name": "python3"
  },
  "language_info": {
   "codemirror_mode": {
    "name": "ipython",
    "version": 3
   },
   "file_extension": ".py",
   "mimetype": "text/x-python",
   "name": "python",
   "nbconvert_exporter": "python",
   "pygments_lexer": "ipython3",
   "version": "3.13.2"
  }
 },
 "nbformat": 4,
 "nbformat_minor": 5
}
